{
 "cells": [
  {
   "cell_type": "markdown",
   "id": "32f1ca39",
   "metadata": {},
   "source": [
    "# Урок 8. Снижение размерности данных"
   ]
  },
  {
   "cell_type": "markdown",
   "id": "e6f1f6e9",
   "metadata": {},
   "source": [
    "### 1 Можно ли отобрать наиболее значимые признаки из имеющихся с помощью PCA? Ответ объясните."
   ]
  },
  {
   "cell_type": "markdown",
   "id": "48de7be9",
   "metadata": {},
   "source": [
    "Да, с помощью PCA можно отобрать наиболее значимые признаки из имеющихся.\n",
    "\n",
    "PCA позволяет найти линейные комбинации исходных признаков, которые максимально сохраняют информацию в данных. Эти новые признаки называются главными компонентами, и они упорядочены по важности, с первой главной компонентой, которая объясняет наибольшую дисперсию в данных.\n",
    "\n",
    "Таким образом, мы можем использовать главные компоненты для отбора наиболее значимых признаков. Мы можем выбрать первые k главных компонент, которые объясняют наибольшую дисперсию в данных, и использовать их в качестве новых признаков. Это позволяет уменьшить размерность данных и улучшить качество моделирования при необходимости.\n",
    "\n",
    "Также следует отметить, что признаки, которые имеют наименьший вклад в главные компоненты, могут быть отброшены, так как они содержат мало информации о данных и не вносят значительный вклад в предсказание целевой переменной. Однако, необходимо учитывать, что при отборе признаков с помощью PCA может происходить потеря некоторой информации, и важно сбалансировать между уменьшением размерности данных и сохранением нужной информации."
   ]
  },
  {
   "cell_type": "markdown",
   "id": "6aa2b1cb",
   "metadata": {},
   "source": [
    "### 2 Написать свою реализацию метода главных компонент с помощью сингулярного разложения с использованием функции numpy.linalg.svd(). \n",
    "Применить к данным на уроке и сравнить ответы."
   ]
  },
  {
   "cell_type": "markdown",
   "id": "3f3910aa",
   "metadata": {},
   "source": [
    "Реализуем метод главных компонент с использованием сингулярного разложения с помощью функции numpy.linalg.svd(). Для этого будем использовать следующий алгоритм:\n",
    "\n",
    "* Центрирование данных, вычитая из каждой колонки среднее значение.\n",
    "* Вычисление матрицы ковариации данных.\n",
    "* Вычисление сингулярного разложения матрицы ковариации данных.\n",
    "* Сортировка сингулярных значений в порядке убывания и соответствующих им сингулярных векторов.\n",
    "* Выбор наиболее значимых сингулярных векторов для получения новой матрицы признаков с меньшей размерностью.\n",
    "* Умножение матрицы данных на выбранные сингулярные векто"
   ]
  },
  {
   "cell_type": "code",
   "execution_count": 167,
   "id": "7fa0a2d9",
   "metadata": {},
   "outputs": [],
   "source": [
    "import numpy as np\n",
    "from sklearn import datasets\n",
    "import matplotlib.pyplot as plt\n",
    "import random"
   ]
  },
  {
   "cell_type": "code",
   "execution_count": 168,
   "id": "43bd842c",
   "metadata": {},
   "outputs": [],
   "source": [
    "def pca(X, n_components):\n",
    "    # Центрирование данных\n",
    "    X = X - np.mean(X, axis=0)\n",
    "    \n",
    "    # Вычисление матрицы ковариации данных\n",
    "    cov_matrix = np.cov(X.T)\n",
    "    \n",
    "    # Вычисление сингулярного разложения матрицы ковариации данных\n",
    "    U, S, V = np.linalg.svd(cov_matrix)\n",
    "    \n",
    "    # Сортировка сингулярных значений в порядке убывания и соответствующих им сингулярных векторов\n",
    "    idx = np.argsort(-S)\n",
    "    U = U[:, idx]\n",
    "    S = S[idx]\n",
    "    \n",
    "    # Выбор наиболее значимых сингулярных векторов\n",
    "    U_reduced = U[:, :n_components]\n",
    "    \n",
    "    # Умножение матрицы данных на выбранные сингулярные векторы\n",
    "    X_reduced = np.dot(X, U_reduced)\n",
    "    \n",
    "    return X_reduced"
   ]
  },
  {
   "cell_type": "code",
   "execution_count": 169,
   "id": "c459f9d1",
   "metadata": {},
   "outputs": [
    {
     "name": "stdout",
     "output_type": "stream",
     "text": [
      "(150, 4)\n"
     ]
    }
   ],
   "source": [
    "# Загрузим игрушечный датасет из sklearn\n",
    "iris = datasets.load_iris()\n",
    "X = iris.data\n",
    "\n",
    "print(X.shape)"
   ]
  },
  {
   "cell_type": "code",
   "execution_count": 170,
   "id": "fc08c881",
   "metadata": {},
   "outputs": [],
   "source": [
    "X_reduced = pca(X, 2)"
   ]
  },
  {
   "cell_type": "code",
   "execution_count": 171,
   "id": "d0082572",
   "metadata": {
    "scrolled": true
   },
   "outputs": [
    {
     "data": {
      "image/png": "[encoded data removed]",
      "text/plain": [
       "<Figure size 432x288 with 1 Axes>"
      ]
     },
     "metadata": {
      "needs_background": "light"
     },
     "output_type": "display_data"
    }
   ],
   "source": [
    "plt.figure()\n",
    "y = iris.target\n",
    "for c, i in zip(\"rgb\", [0, 1, 2]):\n",
    "    plt.scatter(X_reduced[y==i, 0], X_reduced[y==i, 1], c=c)\n",
    "plt.xlabel('Главная компонента 1')\n",
    "plt.ylabel('Главная компонента 2')\n",
    "plt.title('PCA датасета IRIS')\n",
    "plt.show()"
   ]
  },
  {
   "cell_type": "markdown",
   "id": "afe7ecc7",
   "metadata": {},
   "source": [
    "### Рисунок получился зеркальный относительно того, что был на уроке"
   ]
  },
  {
   "cell_type": "markdown",
   "id": "b87e59e4",
   "metadata": {},
   "source": [
    "### 3 Обучить любую модель классификации (используем случайный лес) на датасете IRIS до применения PCA и после него. Сравнить качество классификации по отложенной выборке."
   ]
  },
  {
   "cell_type": "code",
   "execution_count": 172,
   "id": "5be16f93",
   "metadata": {},
   "outputs": [],
   "source": [
    "#Реализуем генерацию  𝑁   бутстрэп-выборок и подмножества признаков для нахождения разбиения в узле.\n",
    "\n",
    "random.seed(42)\n",
    "\n",
    "def get_bootstrap(data, labels, N):\n",
    "    n_samples = data.shape[0]\n",
    "    bootstrap = []\n",
    "    \n",
    "    for i in range(N):\n",
    "        b_data = np.zeros(data.shape)\n",
    "        b_labels = np.zeros(labels.shape)\n",
    "        \n",
    "        for j in range(n_samples):\n",
    "            sample_index = random.randint(0, n_samples-1)\n",
    "            b_data[j] = data[sample_index]\n",
    "            b_labels[j] = labels[sample_index]\n",
    "        bootstrap.append((b_data, b_labels))\n",
    "        \n",
    "    return bootstrap"
   ]
  },
  {
   "cell_type": "code",
   "execution_count": 173,
   "id": "bfb48738",
   "metadata": {},
   "outputs": [],
   "source": [
    "def get_subsample(len_sample):\n",
    "    # будем сохранять не сами признаки, а их индексы\n",
    "    sample_indexes = [i for i in range(len_sample)]\n",
    "    \n",
    "    len_subsample = int(np.sqrt(len_sample))\n",
    "    subsample = []\n",
    "    \n",
    "    random.shuffle(sample_indexes)\n",
    "    for _ in range(len_subsample):\n",
    "        subsample.append(sample_indexes.pop())\n",
    "        \n",
    "    return subsample"
   ]
  },
  {
   "cell_type": "code",
   "execution_count": 174,
   "id": "d75d5381",
   "metadata": {},
   "outputs": [],
   "source": [
    "# Реализуем класс узла\n",
    "\n",
    "class Node:\n",
    "    \n",
    "    def __init__(self, index, t, true_branch, false_branch):\n",
    "        self.index = index  # индекс признака, по которому ведётся сравнение с порогом в этом узле\n",
    "        self.t = t  # значение порога\n",
    "        self.true_branch = true_branch  # поддерево, удовлетворяющее условию в узле\n",
    "        self.false_branch = false_branch  # поддерево, не удовлетворяющее условию в узле"
   ]
  },
  {
   "cell_type": "code",
   "execution_count": 175,
   "id": "99f4288a",
   "metadata": {},
   "outputs": [],
   "source": [
    "# И класс терминального узла (листа)\n",
    "\n",
    "class Leaf:\n",
    "    \n",
    "    def __init__(self, data, labels):\n",
    "        self.data = data\n",
    "        self.labels = labels\n",
    "        self.prediction = self.predict()\n",
    "        \n",
    "    def predict(self):\n",
    "        # подсчёт количества объектов разных классов\n",
    "        classes = {}  # сформируем словарь \"класс: количество объектов\"\n",
    "        for label in self.labels:\n",
    "            if label not in classes:\n",
    "                classes[label] = 0\n",
    "            classes[label] += 1\n",
    "        #  найдём класс, количество объектов которого будет максимальным в этом листе, и вернём его    \n",
    "        prediction = max(classes, key=classes.get)\n",
    "        return prediction    "
   ]
  },
  {
   "cell_type": "code",
   "execution_count": 176,
   "id": "85bc3744",
   "metadata": {},
   "outputs": [],
   "source": [
    "# Расчёт критерия Джини\n",
    "\n",
    "def gini(labels):\n",
    "    #  подсчёт количества объектов разных классов\n",
    "    classes = {}\n",
    "    for label in labels:\n",
    "        if label not in classes:\n",
    "            classes[label] = 0\n",
    "        classes[label] += 1\n",
    "    \n",
    "    #  расчёт критерия\n",
    "    impurity = 1\n",
    "    for label in classes:\n",
    "        p = classes[label] / len(labels)\n",
    "        impurity -= p ** 2\n",
    "        \n",
    "    return impurity"
   ]
  },
  {
   "cell_type": "code",
   "execution_count": 177,
   "id": "4941d898",
   "metadata": {},
   "outputs": [],
   "source": [
    "# Расчёт качества\n",
    "\n",
    "def quality(left_labels, right_labels, current_gini):\n",
    "\n",
    "    # доля выборки, ушедшая в левое поддерево\n",
    "    p = float(left_labels.shape[0]) / (left_labels.shape[0] + right_labels.shape[0])\n",
    "    \n",
    "    return current_gini - p * gini(left_labels) - (1 - p) * gini(right_labels)"
   ]
  },
  {
   "cell_type": "code",
   "execution_count": 178,
   "id": "90cc51db",
   "metadata": {},
   "outputs": [],
   "source": [
    "# Разбиение датасета в узле\n",
    "\n",
    "def split(data, labels, index, t):\n",
    "    \n",
    "    left = np.where(data[:, index] <= t)\n",
    "    right = np.where(data[:, index] > t)\n",
    "        \n",
    "    true_data = data[left]\n",
    "    false_data = data[right]\n",
    "    true_labels = labels[left]\n",
    "    false_labels = labels[right]\n",
    "        \n",
    "    return true_data, false_data, true_labels, false_labels"
   ]
  },
  {
   "cell_type": "code",
   "execution_count": 179,
   "id": "e246c822",
   "metadata": {},
   "outputs": [],
   "source": [
    "# Нахождение наилучшего разбиения\n",
    "\n",
    "def find_best_split(data, labels):\n",
    "    \n",
    "    #  обозначим минимальное количество объектов в узле\n",
    "    min_leaf = 5\n",
    "\n",
    "    current_gini = gini(labels)\n",
    "\n",
    "    best_quality = 0\n",
    "    best_t = None\n",
    "    best_index = None\n",
    "    \n",
    "    n_features = data.shape[1]\n",
    "    \n",
    "    # выбор индекса из подвыборки длиной sqrt(n_features)\n",
    "    subsample = get_subsample(n_features)\n",
    "    \n",
    "    for index in subsample:\n",
    "        t_values = [row[index] for row in data]\n",
    "        \n",
    "        for t in t_values:\n",
    "            true_data, false_data, true_labels, false_labels = split(data, labels, index, t)\n",
    "            #  пропускаем разбиения, где в узле остаётся менее пяти объектов\n",
    "            if len(true_data) < min_leaf or len(false_data) < min_leaf:\n",
    "                continue\n",
    "            \n",
    "            current_quality = quality(true_labels, false_labels, current_gini)\n",
    "            \n",
    "            #  выбираем порог, на котором получается максимальный прирост качества\n",
    "            if current_quality > best_quality:\n",
    "                best_quality, best_t, best_index = current_quality, t, index\n",
    "\n",
    "    return best_quality, best_t, best_index"
   ]
  },
  {
   "cell_type": "code",
   "execution_count": 180,
   "id": "ef850018",
   "metadata": {},
   "outputs": [],
   "source": [
    "# Построение дерева посредством рекурсивной функции\n",
    "\n",
    "def build_tree(data, labels):\n",
    "\n",
    "    quality, t, index = find_best_split(data, labels)\n",
    "\n",
    "    #  Базовый случай — прекращаем рекурсию, когда нет прироста качества\n",
    "    if quality == 0:\n",
    "        return Leaf(data, labels)\n",
    "\n",
    "    true_data, false_data, true_labels, false_labels = split(data, labels, index, t)\n",
    "\n",
    "    # Рекурсивно строим два поддерева\n",
    "    true_branch = build_tree(true_data, true_labels)\n",
    "    false_branch = build_tree(false_data, false_labels)\n",
    "\n",
    "    # Возвращаем класс узла со всеми поддеревьями, то есть целого дерева\n",
    "    return Node(index, t, true_branch, false_branch)"
   ]
  },
  {
   "cell_type": "code",
   "execution_count": 181,
   "id": "8bcfb5b3",
   "metadata": {},
   "outputs": [],
   "source": [
    "def random_forest(data, labels, n_trees):\n",
    "    forest = []\n",
    "    bootstrap = get_bootstrap(data, labels, n_trees)\n",
    "    \n",
    "    for b_data, b_labels in bootstrap:\n",
    "        forest.append(build_tree(b_data, b_labels))\n",
    "        \n",
    "    return forest"
   ]
  },
  {
   "cell_type": "code",
   "execution_count": 182,
   "id": "4a4fe2ff",
   "metadata": {},
   "outputs": [],
   "source": [
    "# Функция классификации отдельного объекта\n",
    "\n",
    "def classify_object(obj, node):\n",
    "\n",
    "    #  Останавливаем рекурсию, если достигли листа\n",
    "    if isinstance(node, Leaf):\n",
    "        answer = node.prediction\n",
    "        return answer\n",
    "\n",
    "    if obj[node.index] <= node.t:\n",
    "        return classify_object(obj, node.true_branch)\n",
    "    else:\n",
    "        return classify_object(obj, node.false_branch)"
   ]
  },
  {
   "cell_type": "code",
   "execution_count": 183,
   "id": "fa52446e",
   "metadata": {},
   "outputs": [],
   "source": [
    "# функция формирования предсказания по выборке на одном дереве\n",
    "\n",
    "def predict(data, tree):\n",
    "    \n",
    "    classes = []\n",
    "    for obj in data:\n",
    "        prediction = classify_object(obj, tree)\n",
    "        classes.append(prediction)\n",
    "    return classes"
   ]
  },
  {
   "cell_type": "code",
   "execution_count": 184,
   "id": "bc4ac6c2",
   "metadata": {},
   "outputs": [],
   "source": [
    "# предсказание голосованием деревьев\n",
    "\n",
    "def tree_vote(forest, data):\n",
    "\n",
    "    # добавим предсказания всех деревьев в список\n",
    "    predictions = []\n",
    "    for tree in forest:\n",
    "        predictions.append(predict(data, tree))\n",
    "    \n",
    "    # сформируем список с предсказаниями для каждого объекта\n",
    "    predictions_per_object = list(zip(*predictions))\n",
    "    \n",
    "    # выберем в качестве итогового предсказания для каждого объекта то,\n",
    "    # за которое проголосовало большинство деревьев\n",
    "    voted_predictions = []\n",
    "    for obj in predictions_per_object:\n",
    "        voted_predictions.append(max(set(obj), key=obj.count))\n",
    "        \n",
    "    return voted_predictions"
   ]
  },
  {
   "cell_type": "code",
   "execution_count": 247,
   "id": "423510da",
   "metadata": {},
   "outputs": [],
   "source": [
    "from sklearn.datasets import load_iris\n",
    "from sklearn.model_selection import train_test_split\n",
    "# Загрузим датасет IRIS\n",
    "iris = load_iris()\n",
    "X = iris.data\n",
    "y = iris.target"
   ]
  },
  {
   "cell_type": "code",
   "execution_count": 248,
   "id": "34800f9b",
   "metadata": {},
   "outputs": [],
   "source": [
    "# Разобьем выборку на обучающую и тестовую\n",
    "train_data, test_data, train_labels, test_labels = train_test_split(X, y, test_size=0.3, random_state=42)\n"
   ]
  },
  {
   "cell_type": "code",
   "execution_count": 249,
   "id": "c41b276f",
   "metadata": {},
   "outputs": [],
   "source": [
    "# Введём функцию подсчёта точности как доли правильных ответов\n",
    "\n",
    "def accuracy_metric(actual, predicted):\n",
    "    correct = 0\n",
    "    for i in range(len(actual)):\n",
    "        if actual[i] == predicted[i]:\n",
    "            correct += 1\n",
    "    return correct / float(len(actual)) * 100.0"
   ]
  },
  {
   "cell_type": "code",
   "execution_count": 250,
   "id": "35171fe5",
   "metadata": {},
   "outputs": [],
   "source": [
    "def metrics_random_forest(train_data, train_labels, n_trees):\n",
    "    my_forest = random_forest(train_data, train_labels, n_trees)\n",
    "    # Получим ответы для обучающей выборки \n",
    "    train_answers = tree_vote(my_forest, train_data)\n",
    "    # И получим ответы для тестовой выборки\n",
    "    test_answers = tree_vote(my_forest, test_data)\n",
    "    # Точность на обучающей выборке\n",
    "    train_accuracy = accuracy_metric(train_labels, train_answers)\n",
    "    # Точность на тестовой выборке\n",
    "    test_accuracy = accuracy_metric(test_labels, test_answers)\n",
    "    return test_accuracy"
   ]
  },
  {
   "cell_type": "code",
   "execution_count": 252,
   "id": "b09dc48b",
   "metadata": {
    "scrolled": true
   },
   "outputs": [
    {
     "name": "stdout",
     "output_type": "stream",
     "text": [
      "97.77777777777777\n"
     ]
    }
   ],
   "source": [
    "print(metrics_random_forest(train_data, train_labels, 2))"
   ]
  },
  {
   "cell_type": "code",
   "execution_count": 256,
   "id": "440d1132",
   "metadata": {},
   "outputs": [],
   "source": [
    "# Применим PCA для уменьшения размерности данных\n",
    "X_reduced = pca(X, 2)"
   ]
  },
  {
   "cell_type": "code",
   "execution_count": 257,
   "id": "b95aa22d",
   "metadata": {},
   "outputs": [],
   "source": [
    "# Разобьем выборку на обучающую и тестовую\n",
    "train_data, test_data, train_labels, test_labels = train_test_split(X_reduced, y, test_size=0.3, random_state=42)\n"
   ]
  },
  {
   "cell_type": "code",
   "execution_count": 258,
   "id": "c57b49b2",
   "metadata": {
    "scrolled": false
   },
   "outputs": [
    {
     "name": "stdout",
     "output_type": "stream",
     "text": [
      "84.44444444444444\n"
     ]
    }
   ],
   "source": [
    "print(metrics_random_forest(train_data, train_labels, 2))"
   ]
  },
  {
   "cell_type": "markdown",
   "id": "8276c46a",
   "metadata": {},
   "source": [
    "Мы видим, что после применения PCA качество модели ухудшилось. Однако, здесь мы использовали только 2 главных компоненты вместо 4 исходных признаков. Если мы используем больше главных компонент, то может улучшиться качество модели. Но также важно учитывать, что применение PCA может привести к потере некоторой информации, что также может ухудшить качество модели."
   ]
  }
 ],
 "metadata": {
  "kernelspec": {
   "display_name": "Python 3 (ipykernel)",
   "language": "python",
   "name": "python3"
  },
  "language_info": {
   "codemirror_mode": {
    "name": "ipython",
    "version": 3
   },
   "file_extension": ".py",
   "mimetype": "text/x-python",
   "name": "python",
   "nbconvert_exporter": "python",
   "pygments_lexer": "ipython3",
   "version": "3.9.15"
  }
 },
 "nbformat": 4,
 "nbformat_minor": 5
}
